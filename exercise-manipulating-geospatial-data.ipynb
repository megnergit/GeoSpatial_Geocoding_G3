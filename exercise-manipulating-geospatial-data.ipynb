{
 "cells": [
  {
   "cell_type": "markdown",
   "metadata": {},
   "source": [
    "------------------------------------------------------------------\n",
    " # Geospatial Data Exercise\n",
    "------------------------------------------------------------------\n",
    "\n",
    " This is an exercise notebook for the fourth lesson of the kaggle course\n",
    " [\"Geospatial Analysis\"](https://www.kaggle.com/learn/geospatial-analysis)\n",
    " offered by Alexis Cook and Jessica Li. The main goal of the lesson is\n",
    " to get used to __Geocoding__ and __Spatial Join__."
   ]
  },
  {
   "cell_type": "markdown",
   "metadata": {},
   "source": [
    "## 1. Introduction"
   ]
  },
  {
   "cell_type": "markdown",
   "metadata": {},
   "source": [
    "Import packages."
   ]
  },
  {
   "cell_type": "code",
   "execution_count": null,
   "metadata": {},
   "outputs": [],
   "source": [
    "import geopandas as gpd\n",
    "from kaggle_geospatial.kgsp import *\n",
    "from folium import Choropleth,  Marker, GeoJson\n",
    "import folium\n",
    "import plotly.graph_objs as go\n",
    "from plotly.subplots import make_subplots\n",
    "import webbrowser\n",
    "import zipfile\n",
    "from pathlib import Path\n",
    "import os\n",
    "import numpy as np\n",
    "import pandas as pd\n",
    "from geopandas.tools import geocode"
   ]
  },
  {
   "cell_type": "markdown",
   "metadata": {},
   "source": [
    "### Geocoding"
   ]
  },
  {
   "cell_type": "markdown",
   "metadata": {},
   "source": [
    "Geocoding is to convert the names and the addresses of places\n",
    " to the latitudes and the longitude, and vice versa.\n",
    " Here is a quick experiment with 'Marienplatz' in Munich."
   ]
  },
  {
   "cell_type": "code",
   "execution_count": null,
   "metadata": {},
   "outputs": [],
   "source": [
    "result_1 = geocode([\"Marienplatz\"])\n",
    "\n",
    "print(type(result_1))\n",
    "print(result_1.info())\n",
    "print(result_1['address'])\n",
    "result_1.head(1)"
   ]
  },
  {
   "cell_type": "markdown",
   "metadata": {},
   "source": [
    "`geocode` returns a GeoDataFrame with Shapely `POINT` object\n",
    " and the address in human-readable form."
   ]
  },
  {
   "cell_type": "code",
   "execution_count": null,
   "metadata": {},
   "outputs": [],
   "source": [
    "result_2 = geocode([\"Neuschwanstein\"])\n",
    "\n",
    "print(type(result_2))\n",
    "print(result_2.info())\n",
    "print(result_2['address'])\n",
    "result_2.head(1)"
   ]
  },
  {
   "cell_type": "code",
   "execution_count": null,
   "metadata": {},
   "outputs": [],
   "source": [
    "result_3 = geocode([\"Augsburger Rathaus\"])\n",
    "\n",
    "print(type(result_3))\n",
    "print(result_3.info())\n",
    "print(result_3['address'])\n",
    "result_3.head(1)"
   ]
  },
  {
   "cell_type": "code",
   "execution_count": null,
   "metadata": {},
   "outputs": [],
   "source": [
    "result_4 = geocode([\"Rathaus, Altenmuenster\"])\n",
    "\n",
    "print(type(result_4))\n",
    "print(result_4.info())\n",
    "print(result_4['address'])\n",
    "result_4.head(1)"
   ]
  },
  {
   "cell_type": "markdown",
   "metadata": {},
   "source": [
    "Wow!"
   ]
  },
  {
   "cell_type": "markdown",
   "metadata": {},
   "source": [
    "### Spatial Join\n",
    " See Appendix.\n",
    "\n",
    " ## 2. Task\n",
    "\n",
    " Visualize the distribution of the coffeeshop Starbucks in California.\n",
    " Find out the best county to build the next 'Starbucks Reserve Roastery'\n",
    " (flagship atelier/gallery shops of Starbucks) in California."
   ]
  },
  {
   "cell_type": "markdown",
   "metadata": {},
   "source": [
    "## 3. Data\n",
    "\n",
    " 1. Locations of existing (non-Roastery) Starbucks in California.\n",
    " 2. General underlying map.\n",
    " 3. Boundaries of counties in California.\n",
    " 4. Statistics of counties in California, such as population,\n",
    "    area in km<sup>2</sup>, and median ages.  Among all, a unique information is\n",
    "    the number of __high earners__ (household with annual income over $150,000)\n",
    "    in each county.\n",
    "\n",
    " ## 4. Notebook"
   ]
  },
  {
   "cell_type": "markdown",
   "metadata": {},
   "source": [
    "Set up some directories."
   ]
  },
  {
   "cell_type": "code",
   "execution_count": null,
   "metadata": {},
   "outputs": [],
   "source": [
    "CWD = '/Users/meg/git6/geocode/'\n",
    "DATA_DIR = '../input/geospatial-learn-course-data/'\n",
    "KAGGLE_DIR = 'alexisbcook/geospatial-learn-course-data'\n",
    "GEO_DIR = 'geospatial-learn-course-data'\n",
    "\n",
    "set_cwd(CWD)\n",
    "set_data_dir(DATA_DIR, KAGGLE_DIR, GEO_DIR, CWD)\n",
    "show_whole_dataframe(True)"
   ]
  },
  {
   "cell_type": "markdown",
   "metadata": {},
   "source": [
    "Read the starbucks data."
   ]
  },
  {
   "cell_type": "code",
   "execution_count": null,
   "metadata": {},
   "outputs": [],
   "source": [
    "starbucks = pd.read_csv(DATA_DIR + 'starbucks_locations.csv')\n",
    "print(starbucks.info())\n",
    "starbucks.head(3)"
   ]
  },
  {
   "cell_type": "markdown",
   "metadata": {},
   "source": [
    "Ancillary data for the state of California."
   ]
  },
  {
   "cell_type": "code",
   "execution_count": null,
   "metadata": {},
   "outputs": [],
   "source": [
    "CA_data_dir = DATA_DIR+'CA_county_boundaries/CA_county_boundaries/'\n",
    "\n",
    "CA_counties = gpd.read_file(CA_data_dir+'CA_county_boundaries.shp')\n",
    "CA_pop = pd.read_csv(DATA_DIR + 'CA_county_population.csv', index_col=\"GEOID\")\n",
    "CA_high_earners = pd.read_csv(\n",
    "    DATA_DIR + 'CA_county_high_earners.csv', index_col=\"GEOID\")\n",
    "CA_median_age = pd.read_csv(\n",
    "    DATA_DIR + 'CA_county_median_age.csv', index_col=\"GEOID\")\n",
    "\n",
    "print(CA_counties.info())\n",
    "print(CA_pop.info())\n",
    "print(CA_high_earners.info())\n",
    "print(CA_median_age.info())\n",
    "\n",
    "print(CA_counties.head(3))\n",
    "print(CA_pop.head(3))\n",
    "print(CA_high_earners.head(3))\n",
    "print(CA_median_age.head(3))"
   ]
  },
  {
   "cell_type": "markdown",
   "metadata": {},
   "source": [
    "'high earners' here means the number of household with annual\n",
    " income of $150,000 or more."
   ]
  },
  {
   "cell_type": "markdown",
   "metadata": {},
   "source": [
    "Start with Starbucks data.\n",
    " There are 5 missing 'Longitude' and 'Latitude' in the data."
   ]
  },
  {
   "cell_type": "code",
   "execution_count": null,
   "metadata": {},
   "outputs": [],
   "source": [
    "starbucks.isna().sum()\n",
    "starbucks.loc[starbucks['Longitude'].isna(), :]\n",
    "starbucks.loc[starbucks['Latitude'].isna(), :]\n",
    "missing_locations = starbucks.loc[starbucks['Latitude'].isna(), :]"
   ]
  },
  {
   "cell_type": "markdown",
   "metadata": {},
   "source": [
    "The shops with missing 'Longitude' and 'Latitude' are\n",
    " all in Berkeley. We will use `geocode` to find out\n",
    " the coordinates of these shops from their\n",
    " addresses."
   ]
  },
  {
   "cell_type": "code",
   "execution_count": null,
   "metadata": {},
   "outputs": [],
   "source": [
    "x = pd.concat([geocode(r['Address'])\n",
    "               for i, r in missing_locations.iterrows()], axis=0)\n",
    "\n",
    "missing_locations[['Longitude', 'Latitude']] = [\n",
    "    [p['geometry'].x, p['geometry'].y] for i, p in x.iterrows()]\n",
    "\n",
    "starbucks = starbucks.combine_first(missing_locations)\n",
    "starbucks[starbucks['City'] == 'Berkeley']"
   ]
  },
  {
   "cell_type": "markdown",
   "metadata": {},
   "source": [
    "`.combine_first` is to fill `None` with the second\n",
    " DataFrame. Make sure that the indices are aligned [two DataFrames\n",
    " use the same (=consistent) index]."
   ]
  },
  {
   "cell_type": "markdown",
   "metadata": {},
   "source": [
    "Now we have a complete table."
   ]
  },
  {
   "cell_type": "code",
   "execution_count": null,
   "metadata": {},
   "outputs": [],
   "source": [
    "starbucks['Address'].str.contains('CA').mean()"
   ]
  },
  {
   "cell_type": "markdown",
   "metadata": {},
   "source": [
    "All shops are in California."
   ]
  },
  {
   "cell_type": "markdown",
   "metadata": {},
   "source": [
    "We will start visualization of the locations of the cafes.\n",
    " First, setup the center of the map, tiles, and the zoom factor."
   ]
  },
  {
   "cell_type": "code",
   "execution_count": null,
   "metadata": {},
   "outputs": [],
   "source": [
    "center = [starbucks['Latitude'].mean(), starbucks['Longitude'].mean()]\n",
    "tiles = 'openstreetmap'\n",
    "zoom = 8"
   ]
  },
  {
   "cell_type": "code",
   "execution_count": null,
   "metadata": {},
   "outputs": [],
   "source": [
    "m_1 = folium.Map(location=center, tiles=tiles, zoom_start=zoom)\n",
    "\n",
    "dump = [Marker((r['Latitude'], r['Longitude']),\n",
    "               tooltip=r['Address']).add_to(m_1)\n",
    "        for i, r in starbucks.iterrows()]\n",
    "\n",
    "embed_map(m_1, './html/m_1.html')"
   ]
  },
  {
   "cell_type": "code",
   "execution_count": null,
   "metadata": {},
   "outputs": [],
   "source": [
    "show_on_browser(m_1, CWD + './html/m_1b.html')"
   ]
  },
  {
   "cell_type": "markdown",
   "metadata": {},
   "source": [
    "Okay, now we start working with the ancillary data.\n",
    " Combine all of them on the index `GEOID`.\n",
    " Make sure that the one with the geometry column\n",
    " is the left most DataFrame."
   ]
  },
  {
   "cell_type": "code",
   "execution_count": null,
   "metadata": {},
   "outputs": [],
   "source": [
    "CA_stats = CA_counties.merge(CA_pop, on='GEOID')\n",
    "CA_stats = CA_stats.merge(CA_high_earners, on='GEOID')\n",
    "CA_stats = CA_stats.merge(CA_median_age, on='GEOID')\n",
    "# CA_stats.set_index('GEOID', inplace=True)"
   ]
  },
  {
   "cell_type": "markdown",
   "metadata": {},
   "source": [
    "Check CRS."
   ]
  },
  {
   "cell_type": "code",
   "execution_count": null,
   "metadata": {},
   "outputs": [],
   "source": [
    "CA_stats.crs"
   ]
  },
  {
   "cell_type": "markdown",
   "metadata": {},
   "source": [
    "It looks like the order of latitude and longitude in `geometry`\n",
    " is not correct. Check it by plotting it."
   ]
  },
  {
   "cell_type": "code",
   "execution_count": null,
   "metadata": {},
   "outputs": [],
   "source": [
    "def style_function(x):\n",
    "    #    return {'fillColor': 'coral', 'stroke': False}\n",
    "    return {'fillColor': 'teal', 'stroke': True}\n",
    "\n",
    "\n",
    "m_2 = folium.Map(location=center, tiles=tiles, zoom_start=zoom)\n",
    "GeoJson(data=CA_stats.__geo_interface__,\n",
    "        style_function=style_function).add_to(m_2)\n",
    "embed_map(m_2, './html/m_2.html')"
   ]
  },
  {
   "cell_type": "code",
   "execution_count": null,
   "metadata": {},
   "outputs": [],
   "source": [
    "show_on_browser(m_2, CWD + './html/m_2b.html')"
   ]
  },
  {
   "cell_type": "markdown",
   "metadata": {},
   "source": [
    "Okay somehow GeoJson handles the coordinates correctly."
   ]
  },
  {
   "cell_type": "markdown",
   "metadata": {},
   "source": [
    "Add population-density, and fraction of high earners."
   ]
  },
  {
   "cell_type": "code",
   "execution_count": null,
   "metadata": {},
   "outputs": [],
   "source": [
    "CA_stats['density'] = CA_stats['population'] / CA_stats['area_sqkm']\n",
    "CA_stats['fraction_HE'] = CA_stats['high_earners'] / CA_stats['population']"
   ]
  },
  {
   "cell_type": "markdown",
   "metadata": {},
   "source": [
    "Create a couple of choropleths to see\n",
    " the demographic and the economic landscape of California."
   ]
  },
  {
   "cell_type": "code",
   "execution_count": null,
   "metadata": {},
   "outputs": [],
   "source": [
    "tiles = 'Stamen Terrain'\n",
    "m_3 = folium.Map(location=center, tiles=tiles, zoom_start=zoom)\n",
    "\n",
    "Choropleth(geo_data=CA_stats.__geo_interface__,\n",
    "           name='choropleth',\n",
    "           data=CA_stats,\n",
    "           columns=['name', 'median_age'],\n",
    "           key_on='feature.properties.name',\n",
    "           fill_color='YlGnBu',\n",
    "           bins=[25, 30, 35, 40, 45, 50, 55, 60],\n",
    "           legend_name='Median Age of Counties in CA').add_to(m_3)\n",
    "\n",
    "embed_map(m_3, './html/m_3.html')"
   ]
  },
  {
   "cell_type": "code",
   "execution_count": null,
   "metadata": {},
   "outputs": [],
   "source": [
    "show_on_browser(m_3, CWD + './html/m_3b.html')"
   ]
  },
  {
   "cell_type": "markdown",
   "metadata": {},
   "source": [
    "__`Choropleth`__ summary.\n",
    "  - `columns`: two columns of `CA_stats` for statistics to show.\n",
    "  - `key_on` : which one of the two above to use to match with `geo_data`."
   ]
  },
  {
   "cell_type": "markdown",
   "metadata": {},
   "source": [
    "__What we can see__\n",
    " \n",
    " 1.  In the counties far away from the coast line toward the western hills\n",
    "     of Sierra Nevada, the median ages are high, sometimes over 50.\n",
    "\n",
    " 2.  In and near the two metropolises, Los Angeles and San Francisco,\n",
    "    the median ages are intermediate, 35-45.\n",
    "\n",
    " 3.  In between the cities along the coast and Sierra Nevada, in Great Valley\n",
    "    and Mohave Desert, the median ages are under 35.\n",
    "\n",
    " 4.  We might interpret the picture as a migration of people. Someone who \n",
    "    are raised in rural part of California, come to big cities to work, \n",
    "    and spend their retirement in highland, where the climates are mild."
   ]
  },
  {
   "cell_type": "code",
   "execution_count": null,
   "metadata": {},
   "outputs": [],
   "source": [
    "tiles = 'Stamen Terrain'\n",
    "m_4 = folium.Map(location=center, tiles=tiles, zoom_start=zoom)\n",
    "\n",
    "Choropleth(geo_data=CA_stats.__geo_interface__,\n",
    "           name='choropleth',\n",
    "           data=CA_stats,\n",
    "           columns=['name', 'high_earners'],\n",
    "           key_on='feature.properties.name',\n",
    "           fill_color='YlGnBu',\n",
    "           bins=10 ** np.array([1, 2, 3, 4, 5, 6]),\n",
    "           legend_name='Number of Household with Annual Income > $150k in CA').add_to(m_4)\n",
    "\n",
    "embed_map(m_4, './html/m_4.html')"
   ]
  },
  {
   "cell_type": "code",
   "execution_count": null,
   "metadata": {},
   "outputs": [],
   "source": [
    "show_on_browser(m_4, CWD + './html/m_4b.html')"
   ]
  },
  {
   "cell_type": "code",
   "execution_count": null,
   "metadata": {},
   "outputs": [],
   "source": [
    "tiles = 'Stamen Terrain'\n",
    "m_5 = folium.Map(location=center, tiles=tiles, zoom_start=zoom)\n",
    "\n",
    "Choropleth(geo_data=CA_stats.__geo_interface__,\n",
    "           name='choropleth',\n",
    "           data=CA_stats,\n",
    "           columns=['name', 'fraction_HE'],\n",
    "           key_on='feature.properties.name',\n",
    "           fill_color='YlGnBu',\n",
    "           bins=[0.0, 0.02, 0.04, 0.06, 0.08, 0.10, 0.12, 0.14, 0.16],\n",
    "           legend_name='Fraction of Household with Annual Income > $150k in CA').add_to(m_5)\n",
    "\n",
    "embed_map(m_5, './html/m_5.html')"
   ]
  },
  {
   "cell_type": "code",
   "execution_count": null,
   "metadata": {},
   "outputs": [],
   "source": [
    "show_on_browser(m_5, CWD + './html/m_5b.html')"
   ]
  },
  {
   "cell_type": "markdown",
   "metadata": {},
   "source": [
    "1. Northern part of San Francisco Bay Area has the highest\n",
    " fraction of high earners."
   ]
  },
  {
   "cell_type": "markdown",
   "metadata": {},
   "source": [
    "Let us look at the number of Starbucks stores in each county."
   ]
  },
  {
   "cell_type": "code",
   "execution_count": null,
   "metadata": {},
   "outputs": [],
   "source": [
    "starbucks = gpd.GeoDataFrame(starbucks,\n",
    "                             geometry=gpd.points_from_xy(\n",
    "                                 starbucks['Longitude'], starbucks['Latitude']))\n",
    "\n",
    "starbucks.crs = {'init': 'epsg:4326'}\n",
    "\n",
    "number_of_sb = []\n",
    "for i, c in CA_stats.iterrows():\n",
    "    number_of_sb.append(sum([c['geometry'].contains(s)\n",
    "                             for s in starbucks['geometry']]))\n",
    "\n",
    "CA_stats['number_of_sb'] = number_of_sb"
   ]
  },
  {
   "cell_type": "code",
   "execution_count": null,
   "metadata": {},
   "outputs": [],
   "source": [
    "tiles = 'cartodbpositron'\n",
    "m_6 = folium.Map(location=center, tiles=tiles, zoom_start=zoom)\n",
    "\n",
    "Choropleth(geo_data=CA_stats.__geo_interface__,\n",
    "           name='choropleth',\n",
    "           data=CA_stats,\n",
    "           columns=['name', 'number_of_sb'],\n",
    "           key_on='feature.properties.name',\n",
    "           fill_color='YlGnBu',\n",
    "           bins=[0, 10, 50, 100, 200, 400, 800],\n",
    "           legend_name='Number of Starbucks Cafes').add_to(m_6)\n",
    "\n",
    "embed_map(m_6, './html/m_6.html')"
   ]
  },
  {
   "cell_type": "code",
   "execution_count": null,
   "metadata": {},
   "outputs": [],
   "source": [
    "show_on_browser(m_6, CWD + './html/m_6b.html')"
   ]
  },
  {
   "cell_type": "code",
   "execution_count": null,
   "metadata": {},
   "outputs": [],
   "source": [
    "CA_stats['sb_per_pop'] = CA_stats['number_of_sb'] / \\\n",
    "    CA_stats['population'] * 10**5"
   ]
  },
  {
   "cell_type": "code",
   "execution_count": null,
   "metadata": {},
   "outputs": [],
   "source": [
    "tiles = 'cartodbpositron'\n",
    "m_7 = folium.Map(location=center, tiles=tiles, zoom_start=zoom)\n",
    "Choropleth(geo_data=CA_stats.__geo_interface__,\n",
    "           name='choropleth',\n",
    "           data=CA_stats,\n",
    "           columns=['name', 'sb_per_pop'],\n",
    "           key_on='feature.properties.name',\n",
    "           fill_color='YlGnBu',\n",
    "           bins=[0, 2, 4, 6, 8, 10, 12, 14, 16],\n",
    "           legend_name='Number of Starbucks Cafes per 100,000 People').add_to(m_7)\n",
    "\n",
    "embed_map(m_7, './html/m_7.html')"
   ]
  },
  {
   "cell_type": "code",
   "execution_count": null,
   "metadata": {},
   "outputs": [],
   "source": [
    "show_on_browser(m_7, CWD + './html/m_7b.html')"
   ]
  },
  {
   "cell_type": "markdown",
   "metadata": {},
   "source": [
    "1. Highest number of Starbucks cafes per capita\n",
    " was Mono County in Sierra Nevada."
   ]
  },
  {
   "cell_type": "code",
   "execution_count": null,
   "metadata": {},
   "outputs": [],
   "source": [
    "CA_stats['sb_per_HE'] = CA_stats['high_earners'] / \\\n",
    "    CA_stats['population']"
   ]
  },
  {
   "cell_type": "code",
   "execution_count": null,
   "metadata": {},
   "outputs": [],
   "source": [
    "tiles = 'cartodbpositron'\n",
    "m_8 = folium.Map(location=center, tiles=tiles, zoom_start=zoom)\n",
    "Choropleth(geo_data=CA_stats.__geo_interface__,\n",
    "           name='choropleth',\n",
    "           data=CA_stats,\n",
    "           columns=['name', 'sb_per_HE'],\n",
    "           key_on='feature.properties.name',\n",
    "           tooltip=folium.features.GeoJsonTooltip(fields=['name']),\n",
    "           fill_color='YlGnBu',\n",
    "           bins=[0.0, 0.02, 0.04, 0.06, 0.08, 0.10, 0.12, 0.14, 0.16],\n",
    "           legend_name='Number of Starbucks Cafes per HE').add_to(m_8)\n",
    "\n",
    "embed_map(m_8, './html/m_8.html')"
   ]
  },
  {
   "cell_type": "code",
   "execution_count": null,
   "metadata": {},
   "outputs": [],
   "source": [
    "show_on_browser(m_8, CWD + './html/m_8b.html')"
   ]
  },
  {
   "cell_type": "markdown",
   "metadata": {},
   "source": [
    "See all of the above in Scatter plot and Bar plots."
   ]
  },
  {
   "cell_type": "code",
   "execution_count": null,
   "metadata": {},
   "outputs": [],
   "source": [
    "trace = go.Scatter(x=CA_stats['median_age'],\n",
    "                   y=CA_stats['fraction_HE'],\n",
    "                   mode='markers',\n",
    "                   marker=dict(color='coral',\n",
    "                               size=20),\n",
    "                   #                   textfont=dict(size=32),\n",
    "                   hovertext=CA_stats['name'],\n",
    "                   hoverinfo='text',\n",
    "                   opacity=0.8)\n",
    "\n",
    "data = [trace]\n",
    "\n",
    "layout = go.Layout(height=1024, width=1024,\n",
    "                   font=dict(size=20),\n",
    "                   xaxis=dict(title=dict(text='Median Age')),\n",
    "                   yaxis=dict(title=dict(text='Fraction of High Earners')),\n",
    "                   showlegend=False)\n",
    "\n",
    "fig = go.Figure(data=data, layout=layout)"
   ]
  },
  {
   "cell_type": "code",
   "execution_count": null,
   "metadata": {},
   "outputs": [],
   "source": [
    "embed_plot(fig, './html/p_1.html')"
   ]
  },
  {
   "cell_type": "code",
   "execution_count": null,
   "metadata": {},
   "outputs": [],
   "source": [
    "fig.show()"
   ]
  },
  {
   "cell_type": "markdown",
   "metadata": {},
   "source": [
    "1. There is a cluster at the median age between 36 and 43\n",
    " and the fraction of high earner over 0.06."
   ]
  },
  {
   "cell_type": "code",
   "execution_count": null,
   "metadata": {},
   "outputs": [],
   "source": [
    "CA_HE = CA_stats[(CA_stats['fraction_HE'] >= 0.06)\n",
    "                 & (CA_stats['median_age'] >= 36)\n",
    "                 & (CA_stats['median_age'] <= 43)]\n",
    "len(CA_HE)\n",
    "CA_HE.head(3)\n",
    "\n",
    "n_rows = 5\n",
    "n_cols = 1\n",
    "fig = make_subplots(rows=n_rows, cols=n_cols,\n",
    "                    vertical_spacing=0.02,\n",
    "                    subplot_titles=[\n",
    "                        #                                    'Population',\n",
    "                        'Population Density',\n",
    "                        'Median Age',\n",
    "                        'Number of Starbucks',\n",
    "                        'Number of Starbucks per 100,000 People',\n",
    "                        'Number of Starbucks per High Earner'])\n",
    "\n",
    "trace_density = go.Bar(y=CA_HE.sort_values('sb_per_HE')['name'],\n",
    "                       x=CA_HE.sort_values('sb_per_HE')['density'],\n",
    "                       #                       x=CA_HE.sort_values('sb_per_HE')['population'],\n",
    "                       xaxis='x', yaxis='y', orientation='h')\n",
    "\n",
    "trace_med_age = go.Bar(y=CA_HE.sort_values('sb_per_HE')['name'],\n",
    "                       x=CA_HE.sort_values('sb_per_HE')['median_age'],\n",
    "                       xaxis='x2', yaxis='y2', orientation='h')\n",
    "\n",
    "trace_sb = go.Bar(y=CA_HE.sort_values('sb_per_HE')['name'],\n",
    "                  x=CA_HE.sort_values('sb_per_HE')['number_of_sb'],\n",
    "                  xaxis='x3', yaxis='y3', orientation='h')\n",
    "\n",
    "trace_sb_pop = go.Bar(y=CA_HE.sort_values('sb_per_HE')['name'],\n",
    "                      x=CA_HE.sort_values('sb_per_HE')['sb_per_pop'],\n",
    "                      xaxis='x4', yaxis='y4', orientation='h')\n",
    "\n",
    "trace_sb_HE = go.Bar(y=CA_HE.sort_values('sb_per_HE')['name'],\n",
    "                     x=CA_HE.sort_values('sb_per_HE')['sb_per_HE'],\n",
    "                     xaxis='x5', yaxis='y5', orientation='h')\n",
    "\n",
    "data = [trace_density, trace_med_age, trace_sb, trace_sb_pop, trace_sb_HE]\n",
    "\n",
    "layout = go.Layout(height=640 * 5, width=1024,\n",
    "                   font=dict(size=20),\n",
    "                   showlegend=False)\n",
    "\n",
    "layout = fig.layout.update(layout)\n",
    "fig = go.Figure(data=data, layout=layout)"
   ]
  },
  {
   "cell_type": "code",
   "execution_count": null,
   "metadata": {},
   "outputs": [],
   "source": [
    "embed_plot(fig, './html/p_2.html')"
   ]
  },
  {
   "cell_type": "code",
   "execution_count": null,
   "metadata": {},
   "outputs": [],
   "source": [
    "fig.show()"
   ]
  },
  {
   "cell_type": "markdown",
   "metadata": {},
   "source": [
    "## 5. Conclusion\n",
    " Where to locate the next Starbucks Reserve Roastery in California?\n",
    "\n",
    " 1. The target customer-segment would be young, professional, and early adapter\n",
    "  with the priority in this order.\n",
    "\n",
    " 2. The strategy depends on how we see the number of Starbucks per capita.\n",
    "    The presence of many Starbucks in a county is a sign of success? Or\n",
    "    a sign of saturation?\n",
    "\n",
    " 3. A bit younger median ages among Starbucks-dense counties,\n",
    "  Santa Clara and Alameda stand out.  My pick is __Alameda__."
   ]
  },
  {
   "cell_type": "markdown",
   "metadata": {},
   "source": [
    "## 6. Appendix\n",
    " ### Spatial Join\n",
    " 'Spatial join' joins two GeoDataFrames according to their geometrical matching.\n",
    " Suppose that the first GeoDataFrames has `POINT` object in 'geometry' column\n",
    " and the second GeoDataFrames has `POLYGON`. One can join two GeoDataFrame so that\n",
    " the `POINT` is included in `POLYGON`.\n",
    "\n",
    " We assigned the total number of Starbucks in `starbucks` to each county\n",
    " in `CA_stats` above. Let us do the other way around, and add county information\n",
    " to `starbucks`."
   ]
  },
  {
   "cell_type": "code",
   "execution_count": null,
   "metadata": {},
   "outputs": [],
   "source": [
    "starbucks.head(3)\n",
    "CA_stats.head(3)\n",
    "\n",
    "x = starbucks.sjoin(CA_stats)\n",
    "x.head(3)"
   ]
  },
  {
   "cell_type": "markdown",
   "metadata": {},
   "source": [
    "END"
   ]
  }
 ],
 "metadata": {},
 "nbformat": 4,
 "nbformat_minor": 4
}
